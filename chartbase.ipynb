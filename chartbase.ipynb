{
 "cells": [
  {
   "cell_type": "code",
   "execution_count": 4,
   "id": "adopted-particle",
   "metadata": {},
   "outputs": [],
   "source": [
    "import numpy as np\n",
    "import scipy as sp\n",
    "import pandas as pd\n",
    "import matplotlib as mpl\n",
    "import matplotlib.pyplot as plt\n",
    "import seaborn as sns\n",
    "import numpy_financial as npf\n",
    "\n",
    "\n",
    "def sta001(k,nyear,xd):\n",
    "    d2=npf.fv(k,nyear,-xd,-xd);\n",
    "    d2=round(d2)\n",
    "    return d2\n",
    "def test():\n",
    "    d40 = 1.4 * 40\n",
    "    print(\"d40,40 x 1.4=\", d40)\n",
    "    d = sta001(0.05, 40 - 1, 1.4);\n",
    "    print(\"01保守投资模式，\", d, round(d / d40))\n",
    "    d2 = sta001(0.20, 40 - 1, 1.4);\n",
    "    print(\"02激进投资模式，\", d2, round(d2 / d40))\n",
    "    dk = round(d2 / d)\n",
    "    print(\"dk,两者差别（xx倍）：\", dk)\n",
    "    dx05 = [sta001(0.05, x, 1.4) for x in range(0, 40)]\n",
    "    dx10 = [sta001(0.10, x, 1.4) for x in range(0, 40)]\n",
    "    dx15 = [sta001(0.15, x, 1.4) for x in range(0, 40)]\n",
    "    dx20 = [sta001(0.20, x, 1.4) for x in range(0, 40)]\n",
    "    # print(dx05)print(dx20)\n",
    "    df = pd.DataFrame(columns=['dx05', 'dx10', 'dx15', 'dx20']);\n",
    "    df['dx05'] = dx05;\n",
    "    df['dx10'] = dx10;\n",
    "    df['dx15'] = dx15;\n",
    "    df['dx20'] = dx20;\n",
    "    print(\"\")\n",
    "    print(df.tail())\n",
    "    df.plot();\n"
   ]
  },
  {
   "cell_type": "code",
   "execution_count": 2,
   "id": "terminal-commitment",
   "metadata": {},
   "outputs": [
    {
     "name": "stdout",
     "output_type": "stream",
     "text": [
      "d40,40 x 1.4= 56.0\n",
      "01保守投资模式， 169 3\n",
      "02激进投资模式， 10281 184\n",
      "dk,两者差别（xx倍）： 61\n",
      "\n",
      "    dx05  dx10  dx15   dx20\n",
      "35   134   419  1420   4955\n",
      "36   142   462  1634   5947\n",
      "37   151   510  1881   7138\n",
      "38   160   562  2165   8567\n",
      "39   169   620  2491  10281\n"
     ]
    },
    {
     "data": {
      "image/png": "[encoded data removed]",
      "text/plain": [
       "<Figure size 432x288 with 1 Axes>"
      ]
     },
     "metadata": {},
     "output_type": "display_data"
    }
   ],
   "source": [
    "if __name__ == '__main__':\n",
    "    test()"
   ]
  },
  {
   "cell_type": "code",
   "execution_count": 6,
   "id": "arranged-canadian",
   "metadata": {},
   "outputs": [],
   "source": [
    "import numpy as np\n",
    "import scipy as sp\n",
    "import pandas as pd\n",
    "import matplotlib as mpl\n",
    "import matplotlib.pyplot as plt\n",
    "import seaborn as sns\n",
    "import numpy_financial as npf\n",
    "mpl.style.use(\"seaborn-whitegrid\")\n",
    "\n",
    "def sta001(k,nyear,xd):\n",
    "    d2=npf.fv(k,nyear,-xd,-xd);\n",
    "    d2=round(d2)\n",
    "    return d2"
   ]
  },
  {
   "cell_type": "code",
   "execution_count": 12,
   "id": "welsh-activation",
   "metadata": {},
   "outputs": [
    {
     "name": "stdout",
     "output_type": "stream",
     "text": [
      "\n",
      "    dx05  dx10  dx15   dx20\n",
      "35   134   419  1420   4955\n",
      "36   142   462  1634   5947\n",
      "37   151   510  1881   7138\n",
      "38   160   562  2165   8567\n",
      "39   169   620  2491  10281\n"
     ]
    },
    {
     "data": {
      "image/png": "[encoded data removed]",
      "text/plain": [
       "<Figure size 432x288 with 1 Axes>"
      ]
     },
     "metadata": {},
     "output_type": "display_data"
    }
   ],
   "source": [
    "\n",
    "def test2():\n",
    "    dx05 = [sta001(0.05, x, 1.4) for x in range(0, 40)]\n",
    "    dx10 = [sta001(0.10 ,x, 1.4) for x in range(0, 40)]\n",
    "    dx15 = [sta001(0.15 ,x, 1.4) for x in range(0, 40)]\n",
    "    dx20 = [sta001(0.20, x, 1.4) for x in range(0, 40)]\n",
    "    # print(dx05)print(dx20)\n",
    "    df = pd.DataFrame(columns=['dx05', 'dx10', 'dx15', 'dx20']);\n",
    "    df['dx05'] = dx05;\n",
    "    df['dx10'] = dx10;\n",
    "    df['dx15'] = dx15;\n",
    "    df['dx20'] = dx20;\n",
    "    print(\"\")\n",
    "    print(df.tail())\n",
    "    df.plot(colormap = 'hot');\n",
    "if __name__ == '__main__':\n",
    "    test2()"
   ]
  },
  {
   "cell_type": "code",
   "execution_count": null,
   "id": "separated-airline",
   "metadata": {},
   "outputs": [],
   "source": []
  },
  {
   "cell_type": "code",
   "execution_count": null,
   "id": "chicken-filename",
   "metadata": {},
   "outputs": [],
   "source": []
  }
 ],
 "metadata": {
  "kernelspec": {
   "display_name": "Python 3",
   "language": "python",
   "name": "python3"
  },
  "language_info": {
   "codemirror_mode": {
    "name": "ipython",
    "version": 3
   },
   "file_extension": ".py",
   "mimetype": "text/x-python",
   "name": "python",
   "nbconvert_exporter": "python",
   "pygments_lexer": "ipython3",
   "version": "3.7.5"
  }
 },
 "nbformat": 4,
 "nbformat_minor": 5
}
